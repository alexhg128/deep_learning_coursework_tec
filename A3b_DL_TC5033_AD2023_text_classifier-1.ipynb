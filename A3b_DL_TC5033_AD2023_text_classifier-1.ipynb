{
 "cells": [
  {
   "cell_type": "markdown",
   "id": "940c6dbc",
   "metadata": {},
   "source": [
    "## TC 5033\n",
    "### Word Embeddings\n",
    "\n",
    "<br>\n",
    "\n",
    "#### Activity 3b: Text Classification using RNNs and AG_NEWS dataset in PyTorch\n",
    "<br>\n",
    "\n",
    "- Objective:\n",
    "    - Understand the basics of Recurrent Neural Networks (RNNs) and their application in text classification.\n",
    "    - Learn how to handle a real-world text dataset, AG_NEWS, in PyTorch.\n",
    "    - Gain hands-on experience in defining, training, and evaluating a text classification model in PyTorch.\n",
    "    \n",
    "<br>\n",
    "\n",
    "- Instructions:\n",
    "    - Data Preparation: Starter code will be provided that loads the AG_NEWS dataset and prepares it for training. Do not modify this part. However, you should be sure to understand it, and comment it, the use of markdown cells is suggested. \n",
    "\n",
    "    - Model Setup: A skeleton code for the RNN model class will be provided. Complete this class and use it to instantiate your model.\n",
    "\n",
    "    - Implementing Accuracy Function: Write a function that takes model predictions and ground truth labels as input and returns the model's accuracy.\n",
    "\n",
    "    - Training Function: Implement a function that performs training on the given model using the AG_NEWS dataset. Your model should achieve an accuracy of at least 80% to get full marks for this part.\n",
    "\n",
    "    - Text Sampling: Write a function that takes a sample text as input and classifies it using your trained model.\n",
    "\n",
    "    - Confusion Matrix: Implement a function to display the confusion matrix for your model on the test data.\n",
    "\n",
    "    - Submission: Submit your completed Jupyter Notebook. Make sure to include a markdown cell at the beginning of the notebook that lists the names of all team members. Teams should consist of 3 to 4 members.\n",
    "    \n",
    "<br>\n",
    "\n",
    "- Evaluation Criteria:\n",
    "\n",
    "    - Correct setup of all the required libraries and modules (10%)\n",
    "    - Code Quality (30%): Your code should be well-organized, clearly commented, and easy to follow. Use also markdown cells for clarity. Comments should be given for all the provided code, this will help you understand its functionality.\n",
    "    \n",
    "   - Functionality (60%): \n",
    "        - All the functions should execute without errors and provide the expected outputs.\n",
    "        - RNN model class (20%)\n",
    "        - Accuracy fucntion (10%)\n",
    "        - Training function (10%)\n",
    "        - Sampling function (10%)\n",
    "        - Confucion matrix (10%)\n",
    "\n",
    "        - The model should achieve at least an 80% accuracy on the AG_NEWS test set for full marks in this criterion.\n"
   ]
  },
  {
   "cell_type": "markdown",
   "id": "4de318da",
   "metadata": {},
   "source": [
    "Dataset\n",
    "\n",
    "https://pytorch.org/text/stable/datasets.html#text-classification\n",
    "\n",
    "https://paperswithcode.com/dataset/ag-news\n"
   ]
  },
  {
   "cell_type": "markdown",
   "id": "4a9801f9",
   "metadata": {},
   "source": [
    "### Import libraries"
   ]
  },
  {
   "cell_type": "code",
   "execution_count": null,
   "id": "54394f53",
   "metadata": {},
   "outputs": [],
   "source": [
    "# conda install -c pytorch torchtext\n",
    "# conda install -c pytorch torchdata\n",
    "# conda install pytorch torchvision torchaudio cudatoolkit=10.2 -c pytorch"
   ]
  },
  {
   "cell_type": "code",
   "execution_count": 1,
   "id": "878b524f",
   "metadata": {
    "ExecuteTime": {
     "end_time": "2023-10-30T02:39:12.450492100Z",
     "start_time": "2023-10-30T02:39:05.370159700Z"
    }
   },
   "outputs": [],
   "source": [
    "# The following libraries are required for running the given code\n",
    "# Please feel free to add any libraries you consider adecuate to complete the assingment.\n",
    "import numpy as np\n",
    "#PyTorch libraries\n",
    "import torch\n",
    "from torchtext.datasets import AG_NEWS\n",
    "# Dataloader library\n",
    "from torch.utils.data import DataLoader\n",
    "from torch.utils.data.dataset import random_split\n",
    "# Libraries to prepare the data\n",
    "from torchtext.data.utils import get_tokenizer\n",
    "from torchtext.vocab import build_vocab_from_iterator\n",
    "from torchtext.data.functional import to_map_style_dataset\n",
    "# neural layers\n",
    "from torch import nn\n",
    "from torch.nn import functional as F\n",
    "from datetime import datetime, timedelta\n",
    "import datetime\n",
    "import time\n",
    "\n",
    "# These libraries are suggested to plot confusion matrix\n",
    "# you may use others\n",
    "import scikitplot as skplt\n",
    "import gc"
   ]
  },
  {
   "cell_type": "code",
   "execution_count": 2,
   "id": "3bab55f3",
   "metadata": {
    "ExecuteTime": {
     "end_time": "2023-10-30T02:39:34.093157500Z",
     "start_time": "2023-10-30T02:39:34.088636200Z"
    }
   },
   "outputs": [
    {
     "name": "stdout",
     "output_type": "stream",
     "text": [
      "cuda\n"
     ]
    }
   ],
   "source": [
    "if torch.cuda.is_available():\n",
    "    device = torch.device('cuda')\n",
    "elif torch.backends.mps.is_available():\n",
    "    # If using Mac M1/M2\n",
    "    device = torch.device('mps')\n",
    "else:\n",
    "    device = torch.device('cpu')\n",
    "print(device)"
   ]
  },
  {
   "cell_type": "code",
   "execution_count": null,
   "outputs": [],
   "source": [],
   "metadata": {
    "collapsed": false
   },
   "id": "6583a711b675ed52"
  },
  {
   "cell_type": "markdown",
   "id": "3d38956d",
   "metadata": {},
   "source": [
    "### Get the train and the test datasets and dataloaders"
   ]
  },
  {
   "cell_type": "markdown",
   "id": "e9c6b784",
   "metadata": {},
   "source": [
    "Classes:\n",
    "\n",
    "* 1 - World\n",
    "\n",
    "* 2 - Sports\n",
    "\n",
    "* 3 - Business\n",
    "\n",
    "* 4 - Sci/Tech\n",
    "\n",
    "We will convert them to:\n",
    "\n",
    "* 0 - World\n",
    "\n",
    "* 1 - Sports\n",
    "\n",
    "* 2 - Business\n",
    "\n",
    "* 3 - Sci/Tech"
   ]
  },
  {
   "cell_type": "code",
   "execution_count": 3,
   "id": "49fbed19",
   "metadata": {
    "ExecuteTime": {
     "end_time": "2023-10-30T02:39:42.668514700Z",
     "start_time": "2023-10-30T02:39:37.640012500Z"
    }
   },
   "outputs": [],
   "source": [
    "train_dataset, test_dataset = AG_NEWS()\n",
    "train_dataset, test_dataset = to_map_style_dataset(train_dataset), to_map_style_dataset(test_dataset)"
   ]
  },
  {
   "cell_type": "code",
   "execution_count": 4,
   "id": "9c372eb9",
   "metadata": {
    "ExecuteTime": {
     "end_time": "2023-10-30T02:39:44.255252900Z",
     "start_time": "2023-10-30T02:39:44.227227100Z"
    }
   },
   "outputs": [],
   "source": [
    "# Get the tokeniser\n",
    "# tokeniser object\n",
    "tokeniser = get_tokenizer('basic_english')\n",
    "\n",
    "def yield_tokens(data):\n",
    "    for _, text in data:\n",
    "        yield tokeniser(text)"
   ]
  },
  {
   "cell_type": "code",
   "execution_count": 5,
   "id": "794d0375",
   "metadata": {
    "ExecuteTime": {
     "end_time": "2023-10-30T02:39:49.931302Z",
     "start_time": "2023-10-30T02:39:45.575043800Z"
    }
   },
   "outputs": [],
   "source": [
    "# Build the vocabulary\n",
    "vocab = build_vocab_from_iterator(yield_tokens(train_dataset), specials=[\"<unk>\"])\n",
    "#set unknown token at position 0\n",
    "vocab.set_default_index(vocab[\"<unk>\"])"
   ]
  },
  {
   "cell_type": "code",
   "execution_count": 6,
   "id": "b48268d4",
   "metadata": {
    "ExecuteTime": {
     "end_time": "2023-10-30T02:39:50.701130700Z",
     "start_time": "2023-10-30T02:39:50.637347200Z"
    }
   },
   "outputs": [
    {
     "name": "stdout",
     "output_type": "stream",
     "text": [
      "['welcome', 'to', 'te3007'] [3314, 4, 0]\n"
     ]
    }
   ],
   "source": [
    "#test tokens\n",
    "tokens = tokeniser('Welcome to TE3007')\n",
    "print(tokens, vocab(tokens))"
   ]
  },
  {
   "cell_type": "code",
   "execution_count": 7,
   "id": "c8c8f6a6",
   "metadata": {
    "ExecuteTime": {
     "end_time": "2023-10-30T02:39:51.790095100Z",
     "start_time": "2023-10-30T02:39:51.790095100Z"
    }
   },
   "outputs": [],
   "source": [
    "NUM_TRAIN = int(len(train_dataset)*0.9)\n",
    "NUM_VAL = len(train_dataset) - NUM_TRAIN"
   ]
  },
  {
   "cell_type": "code",
   "execution_count": 8,
   "id": "8290895e",
   "metadata": {
    "ExecuteTime": {
     "end_time": "2023-10-30T02:39:52.621378800Z",
     "start_time": "2023-10-30T02:39:52.558077Z"
    }
   },
   "outputs": [],
   "source": [
    "train_dataset, val_dataset = random_split(train_dataset, [NUM_TRAIN, NUM_VAL])"
   ]
  },
  {
   "cell_type": "code",
   "execution_count": 9,
   "id": "cbc75b54",
   "metadata": {
    "ExecuteTime": {
     "end_time": "2023-10-30T02:39:53.462715600Z",
     "start_time": "2023-10-30T02:39:53.457664200Z"
    }
   },
   "outputs": [
    {
     "name": "stdout",
     "output_type": "stream",
     "text": [
      "108000 12000 7600\n"
     ]
    }
   ],
   "source": [
    "print(len(train_dataset), len(val_dataset), len(test_dataset))"
   ]
  },
  {
   "cell_type": "code",
   "execution_count": 10,
   "id": "ffdbf077",
   "metadata": {
    "ExecuteTime": {
     "end_time": "2023-10-30T02:39:54.445314900Z",
     "start_time": "2023-10-30T02:39:54.413365100Z"
    }
   },
   "outputs": [],
   "source": [
    "# function passed to the DataLoader to process a batch of data as indicated\n",
    "def collate_batch(batch):\n",
    "    # Get label and text\n",
    "    y, x = list(zip(*batch))\n",
    "    \n",
    "    # Create list with indices from tokeniser\n",
    "    x = [vocab(tokeniser(text)) for text in x]\n",
    "    x = [t + ([0]*(max_tokens - len(t))) if len(t) < max_tokens else t[:max_tokens] for t in x]\n",
    "\n",
    "    # Prepare the labels, by subtracting 1 to get them in the range 0-3\n",
    "    return torch.tensor(x, dtype=torch.int32), torch.tensor(y, dtype=torch.int32) - 1"
   ]
  },
  {
   "cell_type": "code",
   "execution_count": 149,
   "id": "5eb459c7",
   "metadata": {
    "ExecuteTime": {
     "end_time": "2023-10-30T05:22:33.406049200Z",
     "start_time": "2023-10-30T05:22:33.374717900Z"
    }
   },
   "outputs": [],
   "source": [
    "labels =  [\"World\", \"Sports\", \"Business\", \"Sci/Tech\"]\n",
    "max_tokens = 50\n",
    "BATCH_SIZE = 256"
   ]
  },
  {
   "cell_type": "code",
   "execution_count": 150,
   "id": "0a55e6ee",
   "metadata": {
    "ExecuteTime": {
     "end_time": "2023-10-30T05:22:34.357983100Z",
     "start_time": "2023-10-30T05:22:34.325632400Z"
    }
   },
   "outputs": [],
   "source": [
    "train_loader = DataLoader(train_dataset, batch_size=BATCH_SIZE, collate_fn=collate_batch, shuffle = True)\n",
    "val_loader = DataLoader(val_dataset, batch_size=BATCH_SIZE, collate_fn=collate_batch, shuffle = True)\n",
    "test_loader = DataLoader(test_dataset, batch_size=BATCH_SIZE, collate_fn=collate_batch, shuffle = True)"
   ]
  },
  {
   "cell_type": "code",
   "execution_count": null,
   "outputs": [],
   "source": [],
   "metadata": {
    "collapsed": false
   },
   "id": "46b3794da5c0340c"
  },
  {
   "cell_type": "markdown",
   "id": "47b98898",
   "metadata": {},
   "source": [
    "### Let us build our RNN model"
   ]
  },
  {
   "cell_type": "code",
   "execution_count": 188,
   "id": "50f20793",
   "metadata": {
    "ExecuteTime": {
     "end_time": "2023-10-30T06:35:02.930247800Z",
     "start_time": "2023-10-30T06:35:02.883047Z"
    }
   },
   "outputs": [],
   "source": [
    "EMBEDDING_SIZE = 50\n",
    "NEURONS = 75\n",
    "LAYERS = 3\n",
    "NUM_CLASSES = 4"
   ]
  },
  {
   "cell_type": "code",
   "execution_count": 189,
   "id": "0f7f5621",
   "metadata": {
    "ExecuteTime": {
     "end_time": "2023-10-30T06:35:03.709651500Z",
     "start_time": "2023-10-30T06:35:03.656021Z"
    }
   },
   "outputs": [],
   "source": [
    "class RnnModel(nn.Module):\n",
    "    def __init__(self, embed_size, hidden, layers, num_classes):\n",
    "        super().__init__()\n",
    "        \n",
    "        self._vars = {\n",
    "            'embed_size': embed_size,\n",
    "            'layers': layers,\n",
    "            'hidden': hidden,\n",
    "            'classes': num_classes\n",
    "        }\n",
    "        \n",
    "        self.embedding_layer = nn.Embedding(\n",
    "            num_embeddings=len(vocab), \n",
    "            embedding_dim=embed_size\n",
    "        )\n",
    "        \n",
    "        self.rnn = nn.LSTM(input_size=embed_size, hidden_size=hidden, num_layers=layers, batch_first=True) \n",
    "        self.fc = nn.Linear(hidden, num_classes) \n",
    "        \n",
    "    def forward(self, x):\n",
    "        batch_size = len(x)\n",
    "        embeddings = self.embedding_layer(x)\n",
    "        hidden = torch.randn(self._vars['layers'], batch_size, self._vars['hidden']).to(device=device)\n",
    "        carry = torch.randn(self._vars['layers'], batch_size, self._vars['hidden']).to(device=device)\n",
    "        output, (hidden, carry) = self.rnn(embeddings, (hidden, carry))\n",
    "        output = self.fc(output[:,-1])\n",
    "        return output\n",
    "\n",
    "embed_len = 50\n",
    "hidden_dim = 75\n",
    "n_layers=3"
   ]
  },
  {
   "cell_type": "code",
   "execution_count": 190,
   "id": "2a42613f",
   "metadata": {
    "code_folding": [],
    "ExecuteTime": {
     "end_time": "2023-10-30T06:35:04.482823500Z",
     "start_time": "2023-10-30T06:35:04.468113Z"
    }
   },
   "outputs": [],
   "source": [
    "def accuracy(model, loader):\n",
    "    num_correct = 0\n",
    "    num_total = 0\n",
    "    cost = 0.\n",
    "    model = model.to(device=device)\n",
    "    with torch.no_grad():\n",
    "        for mb, (xi, yi) in enumerate(loader):\n",
    "            xi = xi.to(device=device, dtype = torch.long)\n",
    "            yi = yi.to(device=device, dtype = torch.long)\n",
    "            scores = model(xi)\n",
    "            cost += (F.cross_entropy(scores, yi)).item()\n",
    "            _, pred = scores.max(dim=1) \n",
    "            num_correct += (torch.argmax(scores, dim=1) == yi.squeeze()).sum()\n",
    "            num_total += pred.size(0)\n",
    "\n",
    "    return cost/mb, float(num_correct)/num_total"
   ]
  },
  {
   "cell_type": "code",
   "execution_count": 192,
   "id": "5e843e1f",
   "metadata": {
    "code_folding": [],
    "ExecuteTime": {
     "end_time": "2023-10-30T06:35:06.162951900Z",
     "start_time": "2023-10-30T06:35:06.131130200Z"
    }
   },
   "outputs": [],
   "source": [
    "def train(model, optimizer, epochs=100):\n",
    "    model = model.to(device=device)\n",
    "    train_cost = 0.\n",
    "    val_cost = 0.\n",
    "    \n",
    "    print(\"## Total number of batches: {}\".format(len(train_loader)))\n",
    "    \n",
    "    last_batch_time = 1\n",
    "    remaining_epochs = epochs\n",
    "    batches = len(train_loader)\n",
    "    \n",
    "    loss_fn = nn.CrossEntropyLoss()\n",
    "    \n",
    "    for epoch in range(epochs):\n",
    "        train_correct_num  = 0.\n",
    "        train_total = 0.\n",
    "        train_cost_acum = 0\n",
    "        remaining_batches = batches\n",
    "        for mb, (xi, yi) in enumerate(train_loader):\n",
    "            print(\"\\r## Epoch {}/{} ..... Batch {}/{} ..... Epoch ETA {} ..... Training ETA {}\".format(\n",
    "                epoch + 1, \n",
    "                epochs, \n",
    "                mb + 1, \n",
    "                batches,\n",
    "                datetime.timedelta(\n",
    "                    seconds=int(remaining_batches * last_batch_time)\n",
    "                ),\n",
    "                datetime.timedelta(\n",
    "                    seconds=int(\n",
    "                        (remaining_batches * last_batch_time) + ((remaining_epochs - 1) * batches * last_batch_time)\n",
    "                    )\n",
    "                )\n",
    "            ), end=\"\")\n",
    "            t1 = time.time()\n",
    "            model.train()\n",
    "            xi = xi.to(device=device, dtype=torch.long)\n",
    "            yi = yi.to(device=device, dtype=torch.long)\n",
    "            scores = model(xi)\n",
    "            cost = loss_fn(input=scores, target=yi)\n",
    "            optimizer.zero_grad()\n",
    "            cost.backward()\n",
    "            optimizer.step()\n",
    "\n",
    "            train_correct_num += (torch.argmax(scores, dim=1) == yi).sum()\n",
    "            train_total += scores.size(0)\n",
    "\n",
    "            train_cost_acum += cost.item() \n",
    "            t2 = time.time()\n",
    "            last_batch_time = t2 - t1\n",
    "            remaining_batches -= 1\n",
    "\n",
    "        val_cost, val_acc = accuracy(model, val_loader)\n",
    "        train_acc = float(train_correct_num)/train_total\n",
    "        train_cost = train_cost_acum/mb\n",
    "        remaining_epochs -= 1\n",
    "        \n",
    "        print(\"\\r## Epoch {}/{} ... Train Cost {:.6f} ... Val Cost {:.6f} ... Train Acc {:.6f} ... Val Acc {:.6f}\".format(\n",
    "            epoch + 1, epochs,\n",
    "            train_cost, val_cost,\n",
    "            train_acc, val_acc\n",
    "        ))"
   ]
  },
  {
   "cell_type": "code",
   "execution_count": 193,
   "id": "87775b29",
   "metadata": {
    "ExecuteTime": {
     "end_time": "2023-10-30T06:35:07.127482500Z",
     "start_time": "2023-10-30T06:35:07.064396600Z"
    }
   },
   "outputs": [],
   "source": [
    "epochs = 20\n",
    "lr = 1e-3\n",
    "rnn_model = RnnModel(EMBEDDING_SIZE, NEURONS, LAYERS, NUM_CLASSES)\n",
    "optimiser = torch.optim.Adam(rnn_model.parameters(), lr=lr)\n"
   ]
  },
  {
   "cell_type": "code",
   "execution_count": 194,
   "id": "aec12a1b",
   "metadata": {
    "scrolled": true,
    "ExecuteTime": {
     "end_time": "2023-10-30T06:42:44.600858300Z",
     "start_time": "2023-10-30T06:35:07.907696200Z"
    }
   },
   "outputs": [
    {
     "name": "stdout",
     "output_type": "stream",
     "text": [
      "## Total number of batches: 422\n",
      "## Epoch 1/20 ... Train Cost 1.017834 ... Val Cost 0.627491 ... Train Acc 0.526167 ... Val Acc 0.770667\n",
      "## Epoch 2/20 ... Train Cost 0.483795 ... Val Cost 0.422525 ... Train Acc 0.825657 ... Val Acc 0.855333\n",
      "## Epoch 3/20 ... Train Cost 0.349301 ... Val Cost 0.369166 ... Train Acc 0.880907 ... Val Acc 0.877083\n",
      "## Epoch 4/20 ... Train Cost 0.286718 ... Val Cost 0.344592 ... Train Acc 0.904074 ... Val Acc 0.887917\n",
      "## Epoch 5/20 ... Train Cost 0.245386 ... Val Cost 0.321941 ... Train Acc 0.918657 ... Val Acc 0.893667\n",
      "## Epoch 6/20 ... Train Cost 0.212532 ... Val Cost 0.321253 ... Train Acc 0.930028 ... Val Acc 0.895833\n",
      "## Epoch 7/20 ... Train Cost 0.185550 ... Val Cost 0.324158 ... Train Acc 0.939824 ... Val Acc 0.898000\n",
      "## Epoch 8/20 ... Train Cost 0.162700 ... Val Cost 0.317591 ... Train Acc 0.948213 ... Val Acc 0.899083\n",
      "## Epoch 9/20 ... Train Cost 0.142527 ... Val Cost 0.323517 ... Train Acc 0.954954 ... Val Acc 0.902417\n",
      "## Epoch 10/20 ... Train Cost 0.126770 ... Val Cost 0.349016 ... Train Acc 0.960556 ... Val Acc 0.897583\n",
      "## Epoch 11/20 ... Train Cost 0.110299 ... Val Cost 0.351151 ... Train Acc 0.965667 ... Val Acc 0.900833\n",
      "## Epoch 12/20 ... Train Cost 0.097731 ... Val Cost 0.363205 ... Train Acc 0.969750 ... Val Acc 0.899833\n",
      "## Epoch 13/20 ... Train Cost 0.086655 ... Val Cost 0.387550 ... Train Acc 0.973407 ... Val Acc 0.896750\n",
      "## Epoch 14/20 ... Train Cost 0.076178 ... Val Cost 0.402141 ... Train Acc 0.976963 ... Val Acc 0.894250\n",
      "## Epoch 15/20 ... Train Cost 0.068620 ... Val Cost 0.435271 ... Train Acc 0.979972 ... Val Acc 0.894417\n",
      "## Epoch 16/20 ... Train Cost 0.060813 ... Val Cost 0.412753 ... Train Acc 0.982343 ... Val Acc 0.898500\n",
      "## Epoch 17/20 ... Train Cost 0.052847 ... Val Cost 0.473944 ... Train Acc 0.984685 ... Val Acc 0.893333\n",
      "## Epoch 18/20 ... Train Cost 0.049391 ... Val Cost 0.436874 ... Train Acc 0.985833 ... Val Acc 0.895583\n",
      "## Epoch 19/20 ... Train Cost 0.043832 ... Val Cost 0.473781 ... Train Acc 0.987259 ... Val Acc 0.892750\n",
      "## Epoch 20/20 ... Train Cost 0.040577 ... Val Cost 0.467116 ... Train Acc 0.988361 ... Val Acc 0.892833\n"
     ]
    }
   ],
   "source": [
    "train(rnn_model, optimizer=optimiser,  epochs=epochs)"
   ]
  },
  {
   "cell_type": "code",
   "execution_count": 196,
   "id": "7a3ef175",
   "metadata": {
    "ExecuteTime": {
     "end_time": "2023-10-30T06:43:06.550107800Z",
     "start_time": "2023-10-30T06:43:04.906188400Z"
    }
   },
   "outputs": [
    {
     "name": "stdout",
     "output_type": "stream",
     "text": [
      "0.8941\n"
     ]
    }
   ],
   "source": [
    "print(f'{accuracy(rnn_model, test_loader)[1]:.4f}')"
   ]
  },
  {
   "cell_type": "code",
   "execution_count": 246,
   "id": "ed30693d",
   "metadata": {
    "ExecuteTime": {
     "end_time": "2023-11-10T04:07:00.859509900Z",
     "start_time": "2023-11-10T04:07:00.824354Z"
    }
   },
   "outputs": [],
   "source": [
    "def get_class(x:int):\n",
    "    if x == 0:\n",
    "        return \"World\"\n",
    "    elif x == 1:\n",
    "        return \"Sports\"\n",
    "    elif x == 2:\n",
    "        return \"Business\"\n",
    "    elif x == 3:\n",
    "        return \"Sci/Tech\"\n",
    "    else:\n",
    "        return \"Unknown\"\n",
    "\n",
    "\n",
    "def sample_text(model, loader):\n",
    "    idx = np.random.randint(len(test_loader))\n",
    "    #print(loader.dataset[idx])\n",
    "    print(\"Text:\", loader.dataset[idx][1])\n",
    "    print()\n",
    "    _words = tokeniser(loader.dataset[idx][1])\n",
    "    _tokens = vocab(_words)\n",
    "    _tensor = torch.tensor([_tokens]).to(device=device)\n",
    "    scores = model(_tensor)\n",
    "    _prediction = torch.argmax(scores, dim=1)[0].item()\n",
    "    print(\"Predicted class: \", get_class(_prediction))\n",
    "    print(\"Actual class:\", get_class(loader.dataset[idx][0] - 1))"
   ]
  },
  {
   "cell_type": "code",
   "execution_count": 262,
   "id": "534f0220",
   "metadata": {
    "ExecuteTime": {
     "end_time": "2023-11-10T04:07:54.061707100Z",
     "start_time": "2023-11-10T04:07:54.019666300Z"
    }
   },
   "outputs": [
    {
     "name": "stdout",
     "output_type": "stream",
     "text": [
      "Text: Tougher rules won't soften Law's game FOXBOROUGH -- Looking at his ridiculously developed upper body, with huge biceps and hardly an ounce of fat, it's easy to see why Ty Law, arguably the best cornerback in football, chooses physical play over finesse. That's not to imply that he's lacking a finesse component, because he can shut down his side of the field much as Deion Sanders ...\n",
      "\n",
      "Predicted class:  Sports\n",
      "Actual class: Sports\n"
     ]
    }
   ],
   "source": [
    "sample_text(rnn_model, test_loader)"
   ]
  },
  {
   "cell_type": "code",
   "execution_count": null,
   "id": "bb38e093",
   "metadata": {},
   "outputs": [],
   "source": [
    "# create confusion matrix\n",
    "pass"
   ]
  },
  {
   "cell_type": "code",
   "execution_count": null,
   "id": "e7d73f69",
   "metadata": {},
   "outputs": [],
   "source": []
  }
 ],
 "metadata": {
  "kernelspec": {
   "display_name": "Python 3 (ipykernel)",
   "language": "python",
   "name": "python3"
  },
  "language_info": {
   "codemirror_mode": {
    "name": "ipython",
    "version": 3
   },
   "file_extension": ".py",
   "mimetype": "text/x-python",
   "name": "python",
   "nbconvert_exporter": "python",
   "pygments_lexer": "ipython3",
   "version": "3.9.0"
  },
  "varInspector": {
   "cols": {
    "lenName": 16,
    "lenType": 16,
    "lenVar": 40
   },
   "kernels_config": {
    "python": {
     "delete_cmd_postfix": "",
     "delete_cmd_prefix": "del ",
     "library": "var_list.py",
     "varRefreshCmd": "print(var_dic_list())"
    },
    "r": {
     "delete_cmd_postfix": ") ",
     "delete_cmd_prefix": "rm(",
     "library": "var_list.r",
     "varRefreshCmd": "cat(var_dic_list()) "
    }
   },
   "types_to_exclude": [
    "module",
    "function",
    "builtin_function_or_method",
    "instance",
    "_Feature"
   ],
   "window_display": false
  }
 },
 "nbformat": 4,
 "nbformat_minor": 5
}
