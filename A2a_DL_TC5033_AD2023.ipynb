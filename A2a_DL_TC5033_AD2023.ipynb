{
 "cells": [
  {
   "cell_type": "markdown",
   "id": "601b2309",
   "metadata": {},
   "source": [
    "# TC 5033\n",
    "## Deep Learning\n",
    "## Fully Connected Deep Neural Networks using PyTorch\n",
    "<br>\n",
    "\n",
    "#### Activity 2a: Implementing a FC for ASL Dataset using PyTorch\n",
    "<br>\n",
    "\n",
    "\n",
    "- Objective\n",
    "\n",
    "    The primary aim of this activity is to transition from using Numpy for network implementation to utilizing PyTorch, a powerful deep learning framework. You will be replicating the work you did for the ASL dataset in Activity 1b, but this time, you'll implement a your multi layer FC model using PyTorch.\n",
    "    \n",
    "- Instructions\n",
    "\n",
    "    Review Previous Work: Begin by reviewing your Numpy-based Fully Connected Network for the ASL dataset from Activity 1b. Note the architecture, hyperparameters, and performance metrics for comparison.\n",
    "\n",
    "    Introduce PyTorch: If you're new to PyTorch, take some time to familiarize yourself with its basic operations and syntax. You can consult the official documentation or follow online tutorials.\n",
    "\n",
    "    Prepare the ASL Dataset: As before, download and preprocess the Kaggle ASL dataset. \n",
    "\n",
    "    Implement the Network: Design your network architecture tailored for the ASL dataset. Pay special attention to PyTorch modules like nn.Linear() and nn.ReLU().\n",
    "\n",
    "    Train the Model: Implement the training loop, making use of PyTorch's autograd to handle backpropagation. Monitor metrics like loss and accuracy as the model trains.\n",
    "\n",
    "    Analyze and Document: In Markdown cells, discuss the architecture choices, any differences in performance between the Numpy and PyTorch implementations, and insights gained from using a deep learning framework like PyTorch."
   ]
  },
  {
   "cell_type": "code",
   "execution_count": 2,
   "id": "183db241",
   "metadata": {
    "ExecuteTime": {
     "end_time": "2023-10-15T06:57:55.233988Z",
     "start_time": "2023-10-15T06:57:55.225176Z"
    }
   },
   "outputs": [],
   "source": [
    "import numpy as np\n",
    "import string\n",
    "import pandas as pd\n",
    "import matplotlib.pyplot as plt\n",
    "import os\n",
    "%matplotlib inline\n",
    "\n",
    "#PyTorch stuff\n",
    "import torch\n",
    "import torch.nn as nn\n",
    "import torch.nn.functional as F\n",
    "\n",
    "# Solamente para usuarios de Jupyter Themes\n",
    "from jupyterthemes import jtplot\n",
    "jtplot.style(grid=False)"
   ]
  },
  {
   "cell_type": "code",
   "execution_count": 3,
   "id": "b3896ddf",
   "metadata": {
    "ExecuteTime": {
     "end_time": "2023-10-15T06:58:17.667128Z",
     "start_time": "2023-10-15T06:58:15.877751Z"
    }
   },
   "outputs": [],
   "source": [
    "# DATA_PATH = '/media/pepe/DataUbuntu/Databases/asl_data/'\n",
    "DATA_PATH = './asl_data'\n",
    "train_df = pd.read_csv(os.path.join(DATA_PATH, 'sign_mnist_train.csv'))\n",
    "valid_df = pd.read_csv(os.path.join(DATA_PATH, 'sign_mnist_valid.csv'))"
   ]
  },
  {
   "cell_type": "markdown",
   "id": "08fa938e",
   "metadata": {},
   "source": [
    "### Always a good idea to explore the data"
   ]
  },
  {
   "cell_type": "code",
   "execution_count": 4,
   "id": "c149b4d7",
   "metadata": {
    "ExecuteTime": {
     "end_time": "2023-10-15T06:58:20.536583Z",
     "start_time": "2023-10-15T06:58:20.522552Z"
    }
   },
   "outputs": [
    {
     "data": {
      "text/plain": "   label  pixel1  pixel2  pixel3  pixel4  pixel5  pixel6  pixel7  pixel8  \\\n0      3     107     118     127     134     139     143     146     150   \n1      6     155     157     156     156     156     157     156     158   \n2      2     187     188     188     187     187     186     187     188   \n3      2     211     211     212     212     211     210     211     210   \n4     12     164     167     170     172     176     179     180     184   \n\n   pixel9  ...  pixel775  pixel776  pixel777  pixel778  pixel779  pixel780  \\\n0     153  ...       207       207       207       207       206       206   \n1     158  ...        69       149       128        87        94       163   \n2     187  ...       202       201       200       199       198       199   \n3     210  ...       235       234       233       231       230       226   \n4     185  ...        92       105       105       108       133       163   \n\n   pixel781  pixel782  pixel783  pixel784  \n0       206       204       203       202  \n1       175       103       135       149  \n2       198       195       194       195  \n3       225       222       229       163  \n4       157       163       164       179  \n\n[5 rows x 785 columns]",
      "text/html": "<div>\n<style scoped>\n    .dataframe tbody tr th:only-of-type {\n        vertical-align: middle;\n    }\n\n    .dataframe tbody tr th {\n        vertical-align: top;\n    }\n\n    .dataframe thead th {\n        text-align: right;\n    }\n</style>\n<table border=\"1\" class=\"dataframe\">\n  <thead>\n    <tr style=\"text-align: right;\">\n      <th></th>\n      <th>label</th>\n      <th>pixel1</th>\n      <th>pixel2</th>\n      <th>pixel3</th>\n      <th>pixel4</th>\n      <th>pixel5</th>\n      <th>pixel6</th>\n      <th>pixel7</th>\n      <th>pixel8</th>\n      <th>pixel9</th>\n      <th>...</th>\n      <th>pixel775</th>\n      <th>pixel776</th>\n      <th>pixel777</th>\n      <th>pixel778</th>\n      <th>pixel779</th>\n      <th>pixel780</th>\n      <th>pixel781</th>\n      <th>pixel782</th>\n      <th>pixel783</th>\n      <th>pixel784</th>\n    </tr>\n  </thead>\n  <tbody>\n    <tr>\n      <th>0</th>\n      <td>3</td>\n      <td>107</td>\n      <td>118</td>\n      <td>127</td>\n      <td>134</td>\n      <td>139</td>\n      <td>143</td>\n      <td>146</td>\n      <td>150</td>\n      <td>153</td>\n      <td>...</td>\n      <td>207</td>\n      <td>207</td>\n      <td>207</td>\n      <td>207</td>\n      <td>206</td>\n      <td>206</td>\n      <td>206</td>\n      <td>204</td>\n      <td>203</td>\n      <td>202</td>\n    </tr>\n    <tr>\n      <th>1</th>\n      <td>6</td>\n      <td>155</td>\n      <td>157</td>\n      <td>156</td>\n      <td>156</td>\n      <td>156</td>\n      <td>157</td>\n      <td>156</td>\n      <td>158</td>\n      <td>158</td>\n      <td>...</td>\n      <td>69</td>\n      <td>149</td>\n      <td>128</td>\n      <td>87</td>\n      <td>94</td>\n      <td>163</td>\n      <td>175</td>\n      <td>103</td>\n      <td>135</td>\n      <td>149</td>\n    </tr>\n    <tr>\n      <th>2</th>\n      <td>2</td>\n      <td>187</td>\n      <td>188</td>\n      <td>188</td>\n      <td>187</td>\n      <td>187</td>\n      <td>186</td>\n      <td>187</td>\n      <td>188</td>\n      <td>187</td>\n      <td>...</td>\n      <td>202</td>\n      <td>201</td>\n      <td>200</td>\n      <td>199</td>\n      <td>198</td>\n      <td>199</td>\n      <td>198</td>\n      <td>195</td>\n      <td>194</td>\n      <td>195</td>\n    </tr>\n    <tr>\n      <th>3</th>\n      <td>2</td>\n      <td>211</td>\n      <td>211</td>\n      <td>212</td>\n      <td>212</td>\n      <td>211</td>\n      <td>210</td>\n      <td>211</td>\n      <td>210</td>\n      <td>210</td>\n      <td>...</td>\n      <td>235</td>\n      <td>234</td>\n      <td>233</td>\n      <td>231</td>\n      <td>230</td>\n      <td>226</td>\n      <td>225</td>\n      <td>222</td>\n      <td>229</td>\n      <td>163</td>\n    </tr>\n    <tr>\n      <th>4</th>\n      <td>12</td>\n      <td>164</td>\n      <td>167</td>\n      <td>170</td>\n      <td>172</td>\n      <td>176</td>\n      <td>179</td>\n      <td>180</td>\n      <td>184</td>\n      <td>185</td>\n      <td>...</td>\n      <td>92</td>\n      <td>105</td>\n      <td>105</td>\n      <td>108</td>\n      <td>133</td>\n      <td>163</td>\n      <td>157</td>\n      <td>163</td>\n      <td>164</td>\n      <td>179</td>\n    </tr>\n  </tbody>\n</table>\n<p>5 rows × 785 columns</p>\n</div>"
     },
     "execution_count": 4,
     "metadata": {},
     "output_type": "execute_result"
    }
   ],
   "source": [
    "train_df.head()"
   ]
  },
  {
   "cell_type": "markdown",
   "id": "8bf2d1df",
   "metadata": {},
   "source": [
    "### Get training label data"
   ]
  },
  {
   "cell_type": "code",
   "execution_count": 5,
   "id": "4348519c",
   "metadata": {
    "ExecuteTime": {
     "end_time": "2023-10-15T06:58:23.780262Z",
     "start_time": "2023-10-15T06:58:23.616697Z"
    }
   },
   "outputs": [],
   "source": [
    "y_train = np.array(train_df['label'])\n",
    "y_val = np.array(valid_df['label'])\n",
    "del train_df['label']\n",
    "del valid_df['label']\n",
    "x_train = train_df.values.astype(np.float32)\n",
    "x_val = valid_df.values.astype(np.float32)"
   ]
  },
  {
   "cell_type": "code",
   "execution_count": 6,
   "id": "6c9bed68",
   "metadata": {
    "ExecuteTime": {
     "end_time": "2023-10-15T06:58:24.490509Z",
     "start_time": "2023-10-15T06:58:24.477726Z"
    }
   },
   "outputs": [
    {
     "name": "stdout",
     "output_type": "stream",
     "text": [
      "(27455, 784)\n",
      "(27455,)\n"
     ]
    }
   ],
   "source": [
    "print(x_train.shape)\n",
    "print(y_train.shape)"
   ]
  },
  {
   "cell_type": "code",
   "execution_count": 7,
   "id": "ea87a153",
   "metadata": {
    "ExecuteTime": {
     "end_time": "2023-10-15T06:58:25.348876Z",
     "start_time": "2023-10-15T06:58:25.334703Z"
    }
   },
   "outputs": [
    {
     "name": "stdout",
     "output_type": "stream",
     "text": [
      "(7172, 784) (7172,)\n"
     ]
    }
   ],
   "source": [
    "print(x_val.shape, y_val.shape)"
   ]
  },
  {
   "cell_type": "code",
   "execution_count": 8,
   "id": "7b7edd3e",
   "metadata": {
    "ExecuteTime": {
     "end_time": "2023-10-15T06:58:26.285885Z",
     "start_time": "2023-10-15T06:58:26.272137Z"
    }
   },
   "outputs": [],
   "source": [
    "def split_val_test(x, y, pct=0.5, shuffle=True):\n",
    "    assert x.shape[0] == y.shape[0], 'Number of samples x!= number samples y'\n",
    "    total_samples = x.shape[0]\n",
    "    if shuffle:\n",
    "        idxs = np.arange(x.shape[0])\n",
    "        np.random.shuffle(idxs)\n",
    "        x = x[idxs]\n",
    "        y = y[idxs]\n",
    "        #return x_val, y_val, x_test, y_test\n",
    "#         return x[:total_samples//2, :], y[:total_samples//2], x[total_samples//2:, :], y[total_samples//2:]\n",
    "    return x[:int(total_samples*pct), :], y[:int(total_samples*pct)], x[int(total_samples*(pct)):, :], y[int(total_samples*(pct)):]\n",
    "        "
   ]
  },
  {
   "cell_type": "code",
   "execution_count": 9,
   "id": "6fb6fda2",
   "metadata": {
    "ExecuteTime": {
     "end_time": "2023-10-15T06:58:27.593447Z",
     "start_time": "2023-10-15T06:58:27.560629Z"
    }
   },
   "outputs": [],
   "source": [
    "x_val, y_val, x_test, y_test = split_val_test(x_val, y_val)"
   ]
  },
  {
   "cell_type": "code",
   "execution_count": 10,
   "id": "e7a02137",
   "metadata": {
    "ExecuteTime": {
     "end_time": "2023-10-15T06:58:28.166013Z",
     "start_time": "2023-10-15T06:58:28.162373Z"
    }
   },
   "outputs": [
    {
     "data": {
      "text/plain": "numpy.ndarray"
     },
     "execution_count": 10,
     "metadata": {},
     "output_type": "execute_result"
    }
   ],
   "source": [
    "type(y_val)"
   ]
  },
  {
   "cell_type": "code",
   "execution_count": 11,
   "id": "986ec106",
   "metadata": {
    "ExecuteTime": {
     "end_time": "2023-10-15T06:58:28.970051Z",
     "start_time": "2023-10-15T06:58:28.959195Z"
    }
   },
   "outputs": [
    {
     "name": "stdout",
     "output_type": "stream",
     "text": [
      "(3586, 784) (3586,)\n",
      "(3586, 784) (3586,)\n"
     ]
    }
   ],
   "source": [
    "print(x_val.shape, y_val.shape)\n",
    "print(x_test.shape, y_test.shape)"
   ]
  },
  {
   "cell_type": "code",
   "execution_count": 12,
   "id": "d65bdf4c",
   "metadata": {
    "ExecuteTime": {
     "end_time": "2023-10-15T06:58:31.161262Z",
     "start_time": "2023-10-15T06:58:31.157615Z"
    }
   },
   "outputs": [
    {
     "name": "stdout",
     "output_type": "stream",
     "text": [
      "24\n"
     ]
    }
   ],
   "source": [
    "alphabet=list(string.ascii_lowercase)\n",
    "alphabet.remove('j')\n",
    "alphabet.remove('z')\n",
    "print(len(alphabet))"
   ]
  },
  {
   "cell_type": "markdown",
   "id": "f17874be",
   "metadata": {},
   "source": [
    "### Normalise the data"
   ]
  },
  {
   "cell_type": "code",
   "execution_count": 13,
   "id": "b0a5cce2",
   "metadata": {
    "ExecuteTime": {
     "end_time": "2023-10-15T06:58:32.905365Z",
     "start_time": "2023-10-15T06:58:32.900975Z"
    }
   },
   "outputs": [],
   "source": [
    "def normalise(x_mean, x_std, x_data):\n",
    "    return (x_data - x_mean) / x_std"
   ]
  },
  {
   "cell_type": "code",
   "execution_count": 14,
   "id": "b8cf6d30",
   "metadata": {
    "ExecuteTime": {
     "end_time": "2023-10-15T06:58:33.699571Z",
     "start_time": "2023-10-15T06:58:33.612896Z"
    }
   },
   "outputs": [],
   "source": [
    "x_mean = x_train.mean()\n",
    "x_std = x_train.std()\n",
    "\n",
    "x_train = normalise(x_mean, x_std, x_train)\n",
    "x_val = normalise(x_mean, x_std, x_val)\n",
    "x_test = normalise(x_mean, x_std, x_test)\n"
   ]
  },
  {
   "cell_type": "code",
   "execution_count": 15,
   "id": "d0eef77a",
   "metadata": {
    "ExecuteTime": {
     "end_time": "2023-10-15T06:58:34.430983Z",
     "start_time": "2023-10-15T06:58:34.400901Z"
    }
   },
   "outputs": [
    {
     "data": {
      "text/plain": "(3.6268384e-06, 0.99999946)"
     },
     "execution_count": 15,
     "metadata": {},
     "output_type": "execute_result"
    }
   ],
   "source": [
    "x_train.mean(), x_train.std()"
   ]
  },
  {
   "cell_type": "code",
   "execution_count": 16,
   "id": "4761728d",
   "metadata": {
    "ExecuteTime": {
     "end_time": "2023-10-15T06:58:35.028746Z",
     "start_time": "2023-10-15T06:58:35.024320Z"
    }
   },
   "outputs": [],
   "source": [
    "def plot_number(image):\n",
    "    plt.figure(figsize=(5,5))\n",
    "    plt.imshow(image.squeeze(), cmap=plt.get_cmap('gray'))\n",
    "    plt.axis('off')\n",
    "    plt.show()"
   ]
  },
  {
   "cell_type": "code",
   "execution_count": 17,
   "id": "e5eb103d",
   "metadata": {
    "ExecuteTime": {
     "end_time": "2023-10-15T06:58:35.737506Z",
     "start_time": "2023-10-15T06:58:35.732834Z"
    }
   },
   "outputs": [
    {
     "data": {
      "text/plain": "numpy.ndarray"
     },
     "execution_count": 17,
     "metadata": {},
     "output_type": "execute_result"
    }
   ],
   "source": [
    "type(x_val)"
   ]
  },
  {
   "cell_type": "code",
   "execution_count": 18,
   "id": "1b9216b0",
   "metadata": {
    "ExecuteTime": {
     "end_time": "2023-10-15T06:58:36.842075Z",
     "start_time": "2023-10-15T06:58:36.791356Z"
    }
   },
   "outputs": [
    {
     "name": "stdout",
     "output_type": "stream",
     "text": [
      "La imagen muestreada representa un: s\n"
     ]
    },
    {
     "data": {
      "text/plain": "<Figure size 500x500 with 1 Axes>",
      "image/png": "[encoded data removed]"
     },
     "metadata": {},
     "output_type": "display_data"
    }
   ],
   "source": [
    "rnd_idx = np.random.randint(len(y_val))\n",
    "# print(rnd_idx)\n",
    "# print(y_val[rnd_idx])\n",
    "print(f'La imagen muestreada representa un: {alphabet[y_val[rnd_idx]]}')\n",
    "plot_number(x_val[rnd_idx].reshape(28,28))"
   ]
  },
  {
   "cell_type": "markdown",
   "id": "668cfc56",
   "metadata": {},
   "source": [
    "### The model"
   ]
  },
  {
   "cell_type": "markdown",
   "id": "a18c833b",
   "metadata": {},
   "source": [
    "$$z^1 = W^1 X + b^1$$\n",
    "\n",
    "$$a^1 = ReLU(z^1) $$\n",
    "\n",
    "$$z^2 = W^2 a^1 + b^2$$\n",
    "\n",
    "$$\\hat{y} = \\frac{e^{z^{2_k}}}{\\sum_j{e^{z_j}}}$$\n",
    "\n",
    "\n",
    "$$ \\mathcal{L}(\\hat{y}^{i}, y^{i}) =  - y^{i}  \\ln(\\hat{y}^{i}) = -\\ln(\\hat{y}^i)$$\n",
    "\n",
    "\n",
    "$$ \\mathcal{J}(w, b) =  \\frac{1}{num\\_samples} \\sum_{i=1}^{num\\_samples}-\\ln(\\hat{y}^{i})$$"
   ]
  },
  {
   "cell_type": "markdown",
   "id": "beae3ef9",
   "metadata": {},
   "source": [
    "### Create minibatches"
   ]
  },
  {
   "cell_type": "code",
   "execution_count": 19,
   "id": "780beecf",
   "metadata": {
    "ExecuteTime": {
     "end_time": "2023-10-15T06:58:40.546695Z",
     "start_time": "2023-10-15T06:58:40.535044Z"
    }
   },
   "outputs": [],
   "source": [
    "def create_minibatches(mb_size, x, y, shuffle = True):\n",
    "    '''\n",
    "    x  #muestras, 784\n",
    "    y #muestras, 1\n",
    "    '''\n",
    "    assert x.shape[0] == y.shape[0], 'Error en cantidad de muestras'\n",
    "    total_data = x.shape[0]\n",
    "    if shuffle: \n",
    "        idxs = np.arange(total_data)\n",
    "        np.random.shuffle(idxs)\n",
    "        x = x[idxs]\n",
    "        y = y[idxs]\n",
    "        \n",
    "    return ((x[i:i+mb_size], y[i:i+mb_size]) for i in range(0, total_data, mb_size))"
   ]
  },
  {
   "cell_type": "code",
   "execution_count": 34,
   "id": "4b8f845e",
   "metadata": {
    "ExecuteTime": {
     "end_time": "2023-10-15T07:37:36.572459Z",
     "start_time": "2023-10-15T07:37:36.467264Z"
    }
   },
   "outputs": [
    {
     "name": "stdout",
     "output_type": "stream",
     "text": [
      "0 784\n",
      "1 784\n",
      "2 784\n",
      "3 784\n",
      "4 784\n",
      "5 784\n",
      "6 784\n",
      "7 784\n",
      "8 784\n",
      "9 784\n",
      "10 784\n",
      "11 784\n",
      "12 784\n",
      "13 784\n",
      "14 784\n",
      "15 784\n",
      "16 784\n",
      "17 784\n",
      "18 784\n",
      "19 784\n",
      "20 784\n",
      "21 784\n",
      "22 784\n",
      "23 784\n",
      "24 784\n",
      "25 784\n",
      "26 784\n",
      "27 784\n",
      "28 784\n",
      "29 784\n",
      "30 784\n",
      "31 784\n",
      "32 784\n",
      "33 784\n",
      "34 784\n",
      "35 784\n",
      "36 784\n",
      "37 784\n",
      "38 784\n",
      "39 784\n",
      "40 784\n",
      "41 784\n",
      "42 784\n",
      "43 784\n",
      "44 784\n",
      "45 784\n",
      "46 784\n",
      "47 784\n",
      "48 784\n",
      "49 784\n",
      "50 784\n",
      "51 784\n",
      "52 784\n",
      "53 784\n",
      "54 784\n",
      "55 784\n",
      "56 784\n",
      "57 784\n",
      "58 784\n",
      "59 784\n",
      "60 784\n",
      "61 784\n",
      "62 784\n",
      "63 784\n",
      "64 784\n",
      "65 784\n",
      "66 784\n",
      "67 784\n",
      "68 784\n",
      "69 784\n",
      "70 784\n",
      "71 784\n",
      "72 784\n",
      "73 784\n",
      "74 784\n",
      "75 784\n",
      "76 784\n",
      "77 784\n",
      "78 784\n",
      "79 784\n",
      "80 784\n",
      "81 784\n",
      "82 784\n",
      "83 784\n",
      "84 784\n",
      "85 784\n",
      "86 784\n",
      "87 784\n",
      "88 784\n",
      "89 784\n",
      "90 784\n",
      "91 784\n",
      "92 784\n",
      "93 784\n",
      "94 784\n",
      "95 784\n",
      "96 784\n",
      "97 784\n",
      "98 784\n",
      "99 784\n",
      "100 784\n",
      "101 784\n",
      "102 784\n",
      "103 784\n",
      "104 784\n",
      "105 784\n",
      "106 784\n",
      "107 784\n",
      "108 784\n",
      "109 784\n",
      "110 784\n",
      "111 784\n",
      "112 784\n",
      "113 784\n",
      "114 784\n",
      "115 784\n",
      "116 784\n",
      "117 784\n",
      "118 784\n",
      "119 784\n",
      "120 784\n",
      "121 784\n",
      "122 784\n",
      "123 784\n",
      "124 784\n",
      "125 784\n",
      "126 784\n",
      "127 784\n",
      "128 784\n",
      "129 784\n",
      "130 784\n",
      "131 784\n",
      "132 784\n",
      "133 784\n",
      "134 784\n",
      "135 784\n",
      "136 784\n",
      "137 784\n",
      "138 784\n",
      "139 784\n",
      "140 784\n",
      "141 784\n",
      "142 784\n",
      "143 784\n",
      "144 784\n",
      "145 784\n",
      "146 784\n",
      "147 784\n",
      "148 784\n",
      "149 784\n",
      "150 784\n",
      "151 784\n",
      "152 784\n",
      "153 784\n",
      "154 784\n",
      "155 784\n",
      "156 784\n",
      "157 784\n",
      "158 784\n",
      "159 784\n",
      "160 784\n",
      "161 784\n",
      "162 784\n",
      "163 784\n",
      "164 784\n",
      "165 784\n",
      "166 784\n",
      "167 784\n",
      "168 784\n",
      "169 784\n",
      "170 784\n",
      "171 784\n",
      "172 784\n",
      "173 784\n",
      "174 784\n",
      "175 784\n",
      "176 784\n",
      "177 784\n",
      "178 784\n",
      "179 784\n",
      "180 784\n",
      "181 784\n",
      "182 784\n",
      "183 784\n",
      "184 784\n",
      "185 784\n",
      "186 784\n",
      "187 784\n",
      "188 784\n",
      "189 784\n",
      "190 784\n",
      "191 784\n",
      "192 784\n",
      "193 784\n",
      "194 784\n",
      "195 784\n",
      "196 784\n",
      "197 784\n",
      "198 784\n",
      "199 784\n",
      "200 784\n",
      "201 784\n",
      "202 784\n",
      "203 784\n",
      "204 784\n",
      "205 784\n",
      "206 784\n",
      "207 784\n",
      "208 784\n",
      "209 784\n",
      "210 784\n",
      "211 784\n",
      "212 784\n",
      "213 784\n",
      "214 784\n"
     ]
    }
   ],
   "source": [
    "for i, (x, y) in enumerate(create_minibatches(128,x_train, y_train)):\n",
    "    print(i, len(x[0]))"
   ]
  },
  {
   "cell_type": "markdown",
   "id": "12273997",
   "metadata": {},
   "source": [
    "### Now the PyTorch part"
   ]
  },
  {
   "cell_type": "code",
   "execution_count": 21,
   "id": "cbd1415d",
   "metadata": {
    "ExecuteTime": {
     "end_time": "2023-10-15T06:58:43.320991Z",
     "start_time": "2023-10-15T06:58:43.233138Z"
    }
   },
   "outputs": [],
   "source": [
    "x_train_tensor = torch.tensor(x_train.copy())\n",
    "y_train_tensor = torch.tensor(y_train.copy())\n",
    "\n",
    "x_val_tensor = torch.tensor(x_val.copy())\n",
    "y_val_tensor = torch.tensor(y_val.copy())\n",
    "\n",
    "x_test_tensor = torch.tensor(x_test.copy())\n",
    "y_test_tensor = torch.tensor(y_test.copy())"
   ]
  },
  {
   "cell_type": "code",
   "execution_count": 22,
   "id": "087285a9",
   "metadata": {
    "ExecuteTime": {
     "end_time": "2023-10-15T06:58:45.340100Z",
     "start_time": "2023-10-15T06:58:45.327256Z"
    }
   },
   "outputs": [
    {
     "name": "stdout",
     "output_type": "stream",
     "text": [
      "cpu\n"
     ]
    }
   ],
   "source": [
    "device = 'cuda' if torch.cuda.is_available() else 'cpu'\n",
    "print(device)"
   ]
  },
  {
   "cell_type": "markdown",
   "id": "823c3ba5",
   "metadata": {},
   "source": [
    "### Accuracy"
   ]
  },
  {
   "cell_type": "code",
   "execution_count": 23,
   "id": "e2e0f02a",
   "metadata": {
    "ExecuteTime": {
     "end_time": "2023-10-15T06:58:52.715622Z",
     "start_time": "2023-10-15T06:58:52.704641Z"
    }
   },
   "outputs": [],
   "source": [
    "def accuracy(model, x, y, mb_size):\n",
    "    num_correct = 0\n",
    "    num_total = 0\n",
    "    cost = 0.\n",
    "    model.eval()\n",
    "    model = model.to(device=device)\n",
    "    with torch.no_grad():\n",
    "        for mb, (xi, yi) in enumerate(create_minibatches(mb_size, x, y),1):\n",
    "            xi = xi.to(device=device, dtype = torch.float32)\n",
    "            yi = yi.to(device=device, dtype = torch.long)\n",
    "            scores = model(xi) # mb_size, 10\n",
    "            cost += (F.cross_entropy(scores, yi)).item()\n",
    "            _, pred = scores.max(dim=1) #pred shape (mb_size )\n",
    "            num_correct += (pred == yi.squeeze()).sum() # pred shape (mb_size), yi shape (mb_size, 1)\n",
    "            num_total += pred.size(0)\n",
    "\n",
    "        return cost/mb, float(num_correct)/num_total  "
   ]
  },
  {
   "cell_type": "markdown",
   "id": "533c2954",
   "metadata": {},
   "source": [
    "### Training Loop"
   ]
  },
  {
   "cell_type": "code",
   "execution_count": 24,
   "id": "6d0e44c7",
   "metadata": {
    "ExecuteTime": {
     "end_time": "2023-10-15T06:58:54.225774Z",
     "start_time": "2023-10-15T06:58:54.219702Z"
    }
   },
   "outputs": [],
   "source": [
    "def train(model, optimiser, mb_size, epochs=100):\n",
    "    model = model.to(device=device)\n",
    "    train_cost = 0.\n",
    "    val_cost = 0.\n",
    "    for epoch in range(epochs):\n",
    "        train_correct_num  = 0.\n",
    "        train_total = 0.\n",
    "        train_cost_acum = 0\n",
    "        for mb, (xi, yi) in enumerate(create_minibatches(mb_size, x_train_tensor, y_train_tensor), 1):\n",
    "            model.train()\n",
    "            xi = xi.to(device=device, dtype=torch.float32)\n",
    "            yi = yi.to(device=device, dtype=torch.long)\n",
    "            scores = model(xi)\n",
    "            # funcion cost\n",
    "            cost = F.cross_entropy(input= scores, target=yi.squeeze())\n",
    "            optimiser.zero_grad()\n",
    "            cost.backward()\n",
    "            optimiser.step()\n",
    "            \n",
    "            train_correct_num += (torch.argmax(scores, dim=1) == yi.squeeze()).sum()\n",
    "            train_total += scores.size(0)  \n",
    "            \n",
    "            train_cost_acum += cost.item()\n",
    "        \n",
    "        val_cost, val_acc = accuracy(model, x_val_tensor, y_val_tensor, mb_size)\n",
    "        train_acc = float(train_correct_num)/train_total\n",
    "        train_cost = train_cost_acum/mb\n",
    "        if epoch%20 == 0:            \n",
    "            print(f'Epoch:{epoch}, train cost: {train_cost:.6f}, val cost: {val_cost:.6f},'\n",
    "                      f' train acc: {train_acc:.4f}, val acc: {val_acc:4f},'\n",
    "                      f' lr: {optimiser.param_groups[0][\"lr\"]:.6f}')\n",
    "    "
   ]
  },
  {
   "cell_type": "markdown",
   "id": "359b9243",
   "metadata": {},
   "source": [
    "### Model using Sequential"
   ]
  },
  {
   "cell_type": "code",
   "execution_count": 25,
   "id": "c3d678e9",
   "metadata": {
    "ExecuteTime": {
     "end_time": "2023-10-15T07:00:13.053762Z",
     "start_time": "2023-10-15T06:58:55.371372Z"
    }
   },
   "outputs": [
    {
     "name": "stdout",
     "output_type": "stream",
     "text": [
      "Epoch:0, train cost: 0.845400, val cost: 0.793469, train acc: 0.7321, val acc: 0.767708, lr: 0.004000\n",
      "Epoch:20, train cost: 0.186605, val cost: 2.192407, train acc: 0.9608, val acc: 0.772727, lr: 0.004000\n",
      "Epoch:40, train cost: 0.151933, val cost: 2.584210, train acc: 0.9695, val acc: 0.786670, lr: 0.004000\n",
      "Epoch:60, train cost: 0.148707, val cost: 2.604487, train acc: 0.9719, val acc: 0.773564, lr: 0.004000\n",
      "Epoch:80, train cost: 0.176190, val cost: 3.196952, train acc: 0.9684, val acc: 0.770775, lr: 0.004000\n"
     ]
    }
   ],
   "source": [
    "#Instanciar modelo\n",
    "# hidden1 = 100 \n",
    "hidden = 200\n",
    "lr = 1e-3\n",
    "epochs = 100\n",
    "mb_size = 128\n",
    "model1 = nn.Sequential(nn.Linear(in_features=784, out_features=hidden), \n",
    "                       nn.Dropout(),\n",
    "                       nn.ReLU(),\n",
    "#                        nn.Linear(in_features=hidden1, out_features=hidden), nn.ReLU(),\n",
    "                       nn.Linear(in_features=hidden, out_features=24))\n",
    "# optimiser = torch.optim.SGD(model1.parameters(), lr=lr, momentum=0.9, weight_decay=1e-2)\n",
    "optimiser = torch.optim.Adam(model1.parameters(), lr=lr, weight_decay=1e-4)\n",
    "scheduler = torch.optim.lr_scheduler.OneCycleLR(optimiser, 0.1, epochs=epochs, steps_per_epoch=215)\n",
    "\n",
    "train(model1, optimiser, mb_size, epochs)"
   ]
  },
  {
   "cell_type": "code",
   "execution_count": 26,
   "id": "c1942c3b",
   "metadata": {
    "ExecuteTime": {
     "end_time": "2023-10-15T07:00:17.665633Z",
     "start_time": "2023-10-15T07:00:17.613153Z"
    }
   },
   "outputs": [
    {
     "data": {
      "text/plain": "0.7972671500278862"
     },
     "execution_count": 26,
     "metadata": {},
     "output_type": "execute_result"
    }
   ],
   "source": [
    "accuracy(model1, x_test_tensor, y_test_tensor, mb_size)[1]"
   ]
  },
  {
   "cell_type": "code",
   "execution_count": 27,
   "id": "6fa8f9d8",
   "metadata": {
    "ExecuteTime": {
     "end_time": "2023-10-15T07:00:18.926952Z",
     "start_time": "2023-10-15T07:00:18.915584Z"
    }
   },
   "outputs": [],
   "source": [
    "def predict(x, model):\n",
    "    x = x.to(device=device, dtype = torch.float32)\n",
    "    scores = model(x) # mb_size, 10\n",
    "    _, pred = scores.max(dim=1) #pred shape (mb_size )\n",
    "    return pred"
   ]
  },
  {
   "cell_type": "code",
   "execution_count": 28,
   "id": "bb4edc89",
   "metadata": {
    "ExecuteTime": {
     "end_time": "2023-10-15T07:00:20.172103Z",
     "start_time": "2023-10-15T07:00:20.132735Z"
    }
   },
   "outputs": [
    {
     "name": "stdout",
     "output_type": "stream",
     "text": [
      "La imagen muestreada representa un: w\n"
     ]
    },
    {
     "data": {
      "text/plain": "<Figure size 500x500 with 1 Axes>",
      "image/png": "[encoded data removed]"
     },
     "metadata": {},
     "output_type": "display_data"
    },
    {
     "name": "stdout",
     "output_type": "stream",
     "text": [
      "el valor predicho u\n"
     ]
    }
   ],
   "source": [
    "rnd_idx = np.random.randint(len(y_test))\n",
    "print(f'La imagen muestreada representa un: {alphabet[y_test[rnd_idx]]}')\n",
    "plot_number(x_test[rnd_idx].reshape(28,28))\n",
    "pred=predict(x_test_tensor[rnd_idx].reshape(1, -1), model1)\n",
    "print(f'el valor predicho {alphabet[pred]}')"
   ]
  },
  {
   "cell_type": "code",
   "execution_count": null,
   "id": "47d10e1a",
   "metadata": {},
   "outputs": [],
   "source": []
  },
  {
   "cell_type": "code",
   "execution_count": null,
   "id": "b69ab2ba",
   "metadata": {},
   "outputs": [],
   "source": []
  },
  {
   "cell_type": "code",
   "execution_count": null,
   "id": "9787c25d",
   "metadata": {},
   "outputs": [],
   "source": []
  }
 ],
 "metadata": {
  "kernelspec": {
   "display_name": "Python 3 (ipykernel)",
   "language": "python",
   "name": "python3"
  },
  "language_info": {
   "codemirror_mode": {
    "name": "ipython",
    "version": 3
   },
   "file_extension": ".py",
   "mimetype": "text/x-python",
   "name": "python",
   "nbconvert_exporter": "python",
   "pygments_lexer": "ipython3",
   "version": "3.9.0"
  },
  "toc": {
   "base_numbering": 1,
   "nav_menu": {},
   "number_sections": true,
   "sideBar": true,
   "skip_h1_title": false,
   "title_cell": "Table of Contents",
   "title_sidebar": "Contents",
   "toc_cell": false,
   "toc_position": {},
   "toc_section_display": true,
   "toc_window_display": false
  },
  "varInspector": {
   "cols": {
    "lenName": 16,
    "lenType": 16,
    "lenVar": 40
   },
   "kernels_config": {
    "python": {
     "delete_cmd_postfix": "",
     "delete_cmd_prefix": "del ",
     "library": "var_list.py",
     "varRefreshCmd": "print(var_dic_list())"
    },
    "r": {
     "delete_cmd_postfix": ") ",
     "delete_cmd_prefix": "rm(",
     "library": "var_list.r",
     "varRefreshCmd": "cat(var_dic_list()) "
    }
   },
   "types_to_exclude": [
    "module",
    "function",
    "builtin_function_or_method",
    "instance",
    "_Feature"
   ],
   "window_display": false
  }
 },
 "nbformat": 4,
 "nbformat_minor": 5
}
